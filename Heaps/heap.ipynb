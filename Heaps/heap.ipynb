{
 "cells": [
  {
   "cell_type": "code",
   "execution_count": 37,
   "id": "8fb87c8d",
   "metadata": {},
   "outputs": [],
   "source": [
    "\n",
    "class MinHeap:\n",
    "\n",
    "    def __init__(self):\n",
    "        self.heap = []\n",
    "\n",
    "    def __len__(self):\n",
    "        return len(self.heap)\n",
    "\n",
    "    def __repr__(self):\n",
    "        return str(self.heap)\n",
    "\n",
    "    def insert(self, key , value):\n",
    "        self.heap.append((key,value))\n",
    "        self._sift_up(len(self.heap)-1)\n",
    "    def peek_min(self):\n",
    "        if not self.heap:\n",
    "            raise IndexError(\"Empty Heap\")\n",
    "        return self.heap[0]\n",
    "\n",
    "\n",
    "    def extract_min(self):\n",
    "        if not self.heap:\n",
    "            raise IndexError(\"Empty Heap\")\n",
    "        min_element = self.heap[0]\n",
    "        last_element = self.heap.pop()\n",
    "\n",
    "        if self.heap:\n",
    "            self.heap[0] = last_element\n",
    "            self._sift_down(0)\n",
    "\n",
    "        return min_element\n",
    "\n",
    "    def heapify(self, elements):\n",
    "        self.heap = list(elements)\n",
    "\n",
    "        for i in reversed(range(self._parent(len(self.heap)-1)+1)):\n",
    "            self._sift_down(i)\n",
    "\n",
    "    def meld(self, other_heap):\n",
    "        if not isinstance(other_heap, MinHeap):\n",
    "            raise TypeError(\"Expected a MinHeap instance\")\n",
    "        combined_heap = self.heap + other_heap\n",
    "        self.heapify(combined_heap)\n",
    "        \n",
    "    def _parent(self,index):\n",
    "        return (index - 1) // 2 if index > 0 else None\n",
    "    \n",
    "    def _left(self, index):\n",
    "        left = 2*index + 1\n",
    "        return left if left < len(self.heap) else None\n",
    "\n",
    "    def _right(self, index):\n",
    "        right = 2*index + 2\n",
    "        return right if right < len(self.heap) else None\n",
    "    def _sift_up(self, index):\n",
    "        # swim operation\n",
    "        parent_index = self._parent(index)\n",
    "\n",
    "        while parent_index is not None and self.heap[index][0] < self.heap[parent_index][0]:\n",
    "            self.heap[index], self.heap[parent_index] = self.heap[parent_index], self.heap[index]\n",
    "            index = parent_index\n",
    "            parent_index = self._parent(index)\n",
    "        \n",
    "\n",
    "    def _sift_down(self,index):\n",
    "        # sink operation\n",
    "        while True:\n",
    "            smallest = index\n",
    "            left = self._left(index)\n",
    "            right = self._right(index)\n",
    "\n",
    "            if left is not None and self.heap[left][0] < self.heap[smallest][0]:\n",
    "                smallest = left\n",
    "\n",
    "            if right is not None and self.heap[right][0] < self.heap[smallest][0]:\n",
    "                smallest = right\n",
    "            \n",
    "            if smallest == index:\n",
    "                break\n",
    "\n",
    "            self.heap[index], self.heap[smallest] = self.heap[smallest], self.heap[index]\n",
    "            index = smallest\n",
    "\n",
    "    def is_empty(self):\n",
    "        return len(self.heap) == 0\n"
   ]
  },
  {
   "cell_type": "code",
   "execution_count": 38,
   "id": "d9a6cdcf",
   "metadata": {},
   "outputs": [],
   "source": [
    "X = MinHeap()\n"
   ]
  },
  {
   "cell_type": "code",
   "execution_count": 39,
   "id": "e7e2972c",
   "metadata": {},
   "outputs": [],
   "source": [
    "import random\n",
    "arr= [9,7,6,5,3,2,1,0,-10]\n",
    "\n",
    "for i in arr:\n",
    "    string = str(i)\n",
    "    X.insert(i,string)\n",
    "    "
   ]
  },
  {
   "cell_type": "code",
   "execution_count": 40,
   "id": "8681da9a",
   "metadata": {},
   "outputs": [
    {
     "data": {
      "text/plain": [
       "[(-10, '-10'), (0, '0'), (2, '2'), (1, '1'), (6, '6'), (7, '7'), (3, '3'), (9, '9'), (5, '5')]"
      ]
     },
     "execution_count": 40,
     "metadata": {},
     "output_type": "execute_result"
    }
   ],
   "source": [
    "X"
   ]
  },
  {
   "cell_type": "code",
   "execution_count": 48,
   "id": "45ae968d",
   "metadata": {},
   "outputs": [],
   "source": [
    "def heap_sort(heap):\n",
    "    sorted_heap = []\n",
    "    for i in range(len(heap)): \n",
    "        sorted_heap.append(heap.extract_min())\n",
    "    return sorted_heap"
   ]
  },
  {
   "cell_type": "code",
   "execution_count": 49,
   "id": "5165cd3d",
   "metadata": {},
   "outputs": [
    {
     "name": "stdout",
     "output_type": "stream",
     "text": [
      "[(-10, '-10'), (0, '0'), (1, '1'), (2, '2'), (3, '3'), (5, '5'), (6, '6'), (7, '7'), (9, '9')]\n"
     ]
    }
   ],
   "source": [
    "print(heap_sort(X))"
   ]
  }
 ],
 "metadata": {
  "kernelspec": {
   "display_name": "Python 3",
   "language": "python",
   "name": "python3"
  },
  "language_info": {
   "codemirror_mode": {
    "name": "ipython",
    "version": 3
   },
   "file_extension": ".py",
   "mimetype": "text/x-python",
   "name": "python",
   "nbconvert_exporter": "python",
   "pygments_lexer": "ipython3",
   "version": "3.13.5"
  }
 },
 "nbformat": 4,
 "nbformat_minor": 5
}
